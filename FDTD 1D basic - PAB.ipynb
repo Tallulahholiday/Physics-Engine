{
 "cells": [
  {
   "cell_type": "code",
   "execution_count": 1,
   "metadata": {},
   "outputs": [],
   "source": [
    "import numpy as np\n",
    "from matplotlib import pyplot as plt\n",
    "from matplotlib.animation import FuncAnimation\n",
    "\n",
    "%matplotlib inline"
   ]
  },
  {
   "cell_type": "code",
   "execution_count": 2,
   "metadata": {},
   "outputs": [],
   "source": [
    "def FDTD(z_axis, t_axis, Hs, Es, mHx, mEy): \n",
    "    \"\"\"\n",
    "    Args:\n",
    "        z_axis: Numpy array of linearly spaced points on z axis\n",
    "        t_axis: Numpy array of linearly spaced time values\n",
    "        Hs:     Numpy array over time axis of Magnetic Field due to source \n",
    "        Es:     Numpy array over time axis of Electric Field due to source \n",
    "        mHx:    Numpy array over z_axis of update coefficient for magnetic field\n",
    "        mEy:    Numpy array over z_axis of update coefficient for electric field \n",
    "    \n",
    "    Returns:\n",
    "        EOverTime: Numpy array of E field values over z-axis over time \n",
    "        HOverTime: Numpy array of E field values over z-axis over time \n",
    "        \n",
    "        such that EOverTime[t][z] gives Electric field value at time t and position z (t and z are indexs for t_axis and z_axis respectively)\n",
    "    \n",
    "    Perfectly Absorbing Boundary conditions are applied to the axis, and hence values of electric and magnetic field are noted upto two previous steps (e1,e2,h1,h2)\n",
    "    \n",
    "    mHx, mEy are update coefficients that should have values equaling (in accordance to maxwell's equations):\n",
    "        mHx = dt*c0/(mew*dz)\n",
    "        mEy[i] = dt*c0/(ep*dz) \n",
    "    where mew is the permeability in the region and ep is the permittivity in the region, c0 is the speed of EM radiaition in free space \n",
    "    and dz and dt are the space and time steps respectively\n",
    "    \"\"\"\n",
    "    Nz = z_axis.size\n",
    "    steps = t_axis.size\n",
    "    \n",
    "    Hx, Ey = np.zeros([Nz]), np.zeros([Nz])\n",
    "    HxOverTime = np.array([Hx])\n",
    "    EyOverTime = np.array([Ey])\n",
    "    \n",
    "    h2 = h1 = e2 = e1 = 0\n",
    "    \n",
    "    for t in range(1,steps,1):\n",
    "    \n",
    "        Hx = HxOverTime[t-1]\n",
    "        Ey = EyOverTime[t-1]\n",
    "        \n",
    "        h2 = h1\n",
    "        h1 = Hx[0]\n",
    "        \n",
    "        Hx[:Nz-1] += mHx[:Nz-1]*(Ey[1:]-Ey[:Nz-1])\n",
    "        Hx[Nz-1] += mHx[Nz-1]*(e2-Ey[Nz-1])\n",
    "        \n",
    "        HxOverTime[t-1][2] -= mHx[2]*Es[t]\n",
    "        HxOverTime = np.append(HxOverTime, np.array([Hx]), axis=0)\n",
    "        \n",
    "        e2 = e1\n",
    "        e1 = Ey[Nz-1]\n",
    "        \n",
    "        Ey[0] += mEy[0]*(Hx[0]- h2)\n",
    "        Ey[1:] += mEy[1:]*(Hx[1:]-Hx[:Nz-1])   \n",
    "        \n",
    "        EyOverTime[t-1][3] -= mEy[3]*Hs[t]\n",
    "        EyOverTime = np.append(EyOverTime, np.array([Ey]), axis=0)\n",
    "    \n",
    "    return HxOverTime, EyOverTime"
   ]
  },
  {
   "cell_type": "code",
   "execution_count": 3,
   "metadata": {},
   "outputs": [],
   "source": [
    "#Setting constants and environment parameters\n",
    "\n",
    "rel_permittivity = 1.4\n",
    "abs_permittivity = 8.8541878*(10**(-12))\n",
    "permittivity     = rel_permittivity * abs_permittivity\n",
    "\n",
    "rel_permeability = 1.4\n",
    "abs_permeability = 4*(np.pi)*(10**(-7))\n",
    "permeability     = abs_permeability * rel_permeability\n",
    "\n",
    "n = np.sqrt(rel_permittivity * rel_permeability) # refractive index\n",
    "\n",
    "c0 = 299792458\n",
    "cn = c0/n"
   ]
  },
  {
   "cell_type": "code",
   "execution_count": 4,
   "metadata": {},
   "outputs": [],
   "source": [
    "#Grid Resolution\n",
    "dz = 0.1\n",
    "\n",
    "#Grid Size\n",
    "Nz = 200\n",
    "gridLen = Nz*dz\n",
    "z_axis = np.linspace(0,gridLen, Nz)\n",
    "\n",
    "m, e, n_grid = np.ones([Nz]), np.ones([Nz]), np.ones([Nz])\n",
    "for i in range(int(Nz/2), Nz-4, 1):\n",
    "    m[i] = 2.0\n",
    "    e[i] = 2.0\n",
    "    n_grid[i] = np.sqrt(m[i]*e[i])\n",
    "    \n",
    "#Time Step\n",
    "dt = dz/(2*c0)    #dt is chosen to be dz/2*c0 so that the magnitude of c0*dt and dx have the same order of magnitude\n",
    "\n",
    "#Time Period\n",
    "steps = 1500\n",
    "timePeriod = steps*dt\n",
    "t_axis = np.linspace(0, timePeriod, steps)\n",
    "\n",
    "#Update Coefficients for fdtd \n",
    "mHx, mEy = np.ones([Nz]), np.ones([Nz])\n",
    "for i in range(0, Nz, 1):\n",
    "    mHx[i] = dt*c0/(m[i]*dz)\n",
    "    mEy[i] = dt*c0/(e[i]*dz) "
   ]
  },
  {
   "cell_type": "code",
   "execution_count": 5,
   "metadata": {},
   "outputs": [],
   "source": [
    "#Gaussian source (impulse)\n",
    "def Esrc(t, t0, tau):\n",
    "    return np.exp(-((t-t0)/tau)**2) \n",
    "\n",
    "def Hsrc(t, t0, tau, A):\n",
    "    return A*np.exp(-((t-t0+3*dt/2)/tau)**2 )\n",
    "\n",
    "#Source Parameters\n",
    "tau = 20*dt\n",
    "t0  = 6*tau\n",
    "\n",
    "del_t = 2*dt/2                                  #Staggering between Electric and Magnetic Fields\n",
    "A = -np.sqrt(rel_permittivity/rel_permeability) #Normalizing Magnetic Field so it has the same order of magnitude as electric field\n",
    "\n",
    "#Generating Electric and Magnetic Field due to source over time\n",
    "Es = Esrc(t_axis, t0, tau)\n",
    "Hs = Hsrc(t_axis, t0, tau, A)"
   ]
  },
  {
   "cell_type": "code",
   "execution_count": 6,
   "metadata": {},
   "outputs": [],
   "source": [
    "#Running simulation\n",
    "HOverTime, EOverTime = FDTD(z_axis, t_axis, Hs, Es, mHx, mEy)"
   ]
  },
  {
   "cell_type": "code",
   "execution_count": 7,
   "metadata": {},
   "outputs": [
    {
     "data": {
      "image/png": "[encoded data removed]",
      "text/plain": [
       "<Figure size 432x288 with 1 Axes>"
      ]
     },
     "metadata": {
      "needs_background": "light"
     },
     "output_type": "display_data"
    }
   ],
   "source": [
    "#Animation\n",
    "fig = plt.figure(figsize=(6,4))\n",
    "ax = plt.axes(xlim=(0, gridLen), ylim = (-1.5,1.5))\n",
    "\n",
    "#The region with different refractive index is colored silver\n",
    "for i in range(0, Nz, 1):\n",
    "    if n_grid[i] == 1.0:\n",
    "        plt.axvspan(i*dz, (i+1)*dz, facecolor='w')\n",
    "    else:\n",
    "        plt.axvspan(i*dz, (i+1)*dz, facecolor='silver')\n",
    "\n",
    "ax.set_xlabel('z axis')\n",
    "ax.set_ylabel('Electric Field')\n",
    "\n",
    "line, = ax.plot([], [], lw=2)\n",
    "\n",
    "def init():\n",
    "    line.set_data([], [])\n",
    "    return line,\n",
    "\n",
    "#Every 5 steps \n",
    "def animate(t):\n",
    "    x = z_axis\n",
    "    y = EOverTime[5*t]\n",
    "    plt.title(\"Step \" + str(5*t+1) + \" of \" + str(steps)+ \" : time = \" + str(5*t*dt))\n",
    "    line.set_data(x, y)\n",
    "    return line,\n",
    "\n",
    "anim = FuncAnimation(fig, animate, init_func=init,\n",
    "                               frames=int(steps/5), interval=2, blit=True)\n",
    "\n",
    "anim.save(\"EOverZ.gif\", writer='imagemagick')  "
   ]
  }
 ],
 "metadata": {
  "kernelspec": {
   "display_name": "Python 3",
   "language": "python",
   "name": "python3"
  },
  "language_info": {
   "codemirror_mode": {
    "name": "ipython",
    "version": 3
   },
   "file_extension": ".py",
   "mimetype": "text/x-python",
   "name": "python",
   "nbconvert_exporter": "python",
   "pygments_lexer": "ipython3",
   "version": "3.7.4"
  }
 },
 "nbformat": 4,
 "nbformat_minor": 4
}
